{
 "cells": [
  {
   "cell_type": "markdown",
   "id": "d68be120-1565-4b8b-b2e1-96487e19f0f8",
   "metadata": {},
   "source": [
    "Comparing some quantities in VMEC wout to DESC in order to understand the formulas that went into the VMEC wout quantity (The internal variables in VMEC are a bit difficult to trace all the way to the output, so I found this to be quicker for me)."
   ]
  },
  {
   "cell_type": "code",
   "execution_count": 1,
   "id": "a8cc9cd1-8b5e-40df-9259-cc2fa5f1f8e6",
   "metadata": {},
   "outputs": [],
   "source": [
    "import numpy as np\n",
    "import pytest\n",
    "from netCDF4 import Dataset\n",
    "\n",
    "import desc.examples\n",
    "from desc.basis import DoubleFourierSeries, FourierZernikeBasis\n",
    "from desc.equilibrium import EquilibriaFamily, Equilibrium\n",
    "from desc.examples import get\n",
    "from desc.grid import Grid, LinearGrid, QuadratureGrid\n",
    "from desc.input_reader import InputReader\n",
    "from desc.io import load\n",
    "from desc.objectives import ForceBalance, ObjectiveFunction\n",
    "from desc.profiles import PowerSeriesProfile\n",
    "from desc.transform import Transform\n",
    "from desc.vmec import VMECIO\n",
    "from desc.vmec_utils import (\n",
    "    fourier_to_zernike,\n",
    "    make_boozmn_output,\n",
    "    ptolemy_identity_fwd,\n",
    "    ptolemy_identity_rev,\n",
    "    ptolemy_linear_transform,\n",
    "    vmec_boundary_subspace,\n",
    "    zernike_to_fourier,\n",
    ")\n"
   ]
  },
  {
   "cell_type": "code",
   "execution_count": 2,
   "id": "eff97dcc-01c7-439f-a3ed-80fd9c55764a",
   "metadata": {},
   "outputs": [],
   "source": [
    "vmecpath = \"wout_GS_LH_ns256.nc\"\n",
    "descpath = \"input.GS_LH_output.h5\"\n",
    "\n",
    "# desc_ncpath = \"./wout_DESC_SOLOVEV_output.nc\"\n",
    "\n",
    "vmec = Dataset(vmecpath, mode=\"r\")\n",
    "eq = load(descpath)[-1]\n",
    "# eq.change_resolution(M=vmec.variables[\"mpol\"][:] - 1, N=vmec.variables[\"ntor\"][:])\n",
    "# VMECIO.save(\n",
    "#     eq, desc_ncpath, surfs=vmec.variables[\"ns\"][:], verbose=0\n",
    "# )\n",
    "# desc = Dataset(desc_ncpath, mode=\"r\")"
   ]
  },
  {
   "cell_type": "code",
   "execution_count": 3,
   "id": "29e20e76-5246-4049-84be-036cead52f1c",
   "metadata": {},
   "outputs": [
    {
     "data": {
      "text/plain": [
       "<class 'netCDF4._netCDF4.Variable'>\n",
       "float64 over_r(radius)\n",
       "unlimited dimensions: \n",
       "current shape = (256,)\n",
       "filling on, default _FillValue of 9.969209968386869e+36 used"
      ]
     },
     "execution_count": 3,
     "metadata": {},
     "output_type": "execute_result"
    }
   ],
   "source": [
    "vmec.variables[\"over_r\"]"
   ]
  },
  {
   "cell_type": "code",
   "execution_count": 4,
   "id": "66ca482f-ec10-4a43-970a-d2a7ab9003b4",
   "metadata": {},
   "outputs": [
    {
     "data": {
      "text/plain": [
       "masked_array(data=256,\n",
       "             mask=False,\n",
       "       fill_value=999999,\n",
       "            dtype=int32)"
      ]
     },
     "execution_count": 4,
     "metadata": {},
     "output_type": "execute_result"
    }
   ],
   "source": [
    "vmec.variables[\"ns\"][:]"
   ]
  },
  {
   "cell_type": "markdown",
   "id": "49af6653-8899-4663-b68a-51118cbfb280",
   "metadata": {},
   "source": [
    "# over_r"
   ]
  },
  {
   "cell_type": "markdown",
   "id": "a4ff8466-740c-4749-8479-614388588f7f",
   "metadata": {},
   "source": [
    "Supposed to be \n",
    "$$\n",
    "\\begin{equation}\n",
    "\\tau = \\partial R_\\theta \\partial Z_s -  \\partial Z_\\theta \\partial R_s = \\frac{\\sqrt{g}}{R}\n",
    "\\end{equation}\n",
    "$$\n",
    "\n",
    "\n",
    "$$\n",
    "\\begin{equation}\n",
    "overr = \\frac{\\langle \\tau/R\\rangle_{fsa}}{\\frac{\\partial V(s)}{\\partial s}}\n",
    "\\end{equation}\n",
    "$$\n",
    "\n",
    "Where I To compute with DESC, everything that involves $\\partial_s$ must be obtained by taking the corresponding DESC radially-derived quantitiy and multipy by $\\frac{\\partial \\rho}{\\partial s} = 1/(2\\rho)$. So in DESC, we would have (where $\\sqrt{g}_{DESC} = \\mathbf{e}_{\\rho} \\cdot \\mathbf{e}_{\\theta} \\times \\mathbf{e}_{\\zeta}$)\n",
    "\n",
    "$$\n",
    "\\begin{equation}\n",
    "\\tau = \\partial R_\\theta \\partial Z_\\rho \\frac{\\partial \\rho}{\\partial s} -  \\partial Z_\\theta \\partial R_\\rho \\frac{\\partial \\rho}{\\partial s} = \\frac{\\sqrt{g}_{DESC} \\frac{\\partial \\rho}{\\partial s}}{R}\n",
    "\\end{equation}\n",
    "$$\n",
    "\n",
    "\n",
    "$$\n",
    "\\begin{equation}\n",
    "overr = \\frac{\\langle \\tau/R\\rangle_{fsa}}{\\frac{\\partial V(\\rho)}{\\partial \\rho} \\frac{\\partial \\rho}{\\partial s}} = \\frac{\\langle \\frac{\\sqrt{g}_{DESC} \\frac{\\partial \\rho}{\\partial s}}{R**2}\\rangle_{fsa}}{\\frac{\\partial V(\\rho)}{\\partial \\rho} \\frac{\\partial \\rho}{\\partial s}} = \\frac{\\langle \\frac{\\sqrt{g}_{DESC} }{R**2}\\rangle_{fsa}}{\\frac{\\partial V(\\rho)}{\\partial \\rho}}\n",
    "\\end{equation}\n",
    "$$"
   ]
  },
  {
   "cell_type": "markdown",
   "id": "4d553fe1-d3a0-4d2a-8a68-fe5c09749414",
   "metadata": {},
   "source": [
    "However from the below, it seems that\n",
    "- it is not a true flux-surface average but rather a simple average ($\\langle ... \\rangle = \\iint ... d\\theta d\\zeta$ instead of $\\langle ... \\rangle_{fsa} =\\iint ... \\sqrt{g} d\\theta d\\zeta /\\iint \\sqrt{g} d\\theta d\\zeta $)\n",
    "- and that it is not actually $\\langle\\tau/R\\rangle$ but rather $\\langle\\sqrt{g}/R\\rangle = \\langle\\tau\\rangle$ that is the numerator of the output by VMEC (at least from the understanding of the documentation of $VMEC++$ which identifies $\\tau$ with $G$ of Hirshman and Whitson 1983 eqn 17b)\n",
    "- The $\\partial V(s) / \\partial s$ is the normalized one that is saved to the `\"vp\"` variable, namely it is really $\\partial V(s) / \\partial s / 4 / \\pi^2$\n",
    "\n",
    "So, the actual formula for the `\"over_r\"` quantity is the simple (not flux-surface) average over theta and zeta of the quantity $\\sqrt{g}/R=\\tau$ divided by the quantity $\\partial V(s) / \\partial s / 4 / \\pi^2$:\n",
    "\n",
    "$$\n",
    "\\begin{equation}\n",
    "overr = \\frac{\\langle \\sqrt{g}/R\\rangle 4\\pi^2}{\\frac{\\partial V(s)}{\\partial s}} = \\frac{\\langle \\tau\\rangle 4\\pi^2}{\\frac{\\partial V(s)}{\\partial s}}\n",
    "\\end{equation}\n",
    "$$\n",
    "\n",
    "And in DESC the equivalent quantity is computed as \n",
    "\n",
    "$$\n",
    "\\begin{equation}\n",
    "overr = \\frac{\\langle \\sqrt{g}_{DESC}/R\\rangle 4\\pi^2}{\\frac{\\partial V(\\rho)}{\\partial \\rho}}\n",
    "\\end{equation}\n",
    "$$"
   ]
  },
  {
   "cell_type": "code",
   "execution_count": 5,
   "id": "5460de64-8105-4fb7-982b-ca74f3e3740a",
   "metadata": {},
   "outputs": [
    {
     "data": {
      "text/plain": [
       "Text(0, 0.5, 'Value')"
      ]
     },
     "execution_count": 5,
     "metadata": {},
     "output_type": "execute_result"
    },
    {
     "data": {
      "image/png": "[encoded data removed]",
      "text/plain": [
       "<Figure size 640x480 with 1 Axes>"
      ]
     },
     "metadata": {},
     "output_type": "display_data"
    }
   ],
   "source": [
    "import matplotlib.pyplot as plt\n",
    "from desc.grid import LinearGrid\n",
    "from desc.integrals import surface_averages\n",
    "\n",
    "M_grid = eq.M_grid\n",
    "N_grid = eq.N_grid\n",
    "NFP=eq.NFP\n",
    "surfs=vmec.variables[\"ns\"][:]\n",
    "s_full = np.linspace(0, 1, surfs)\n",
    "s_half = s_full[0:-1] + 0.5 / (surfs - 1)\n",
    "r_full = np.sqrt(s_full)\n",
    "r_half = np.sqrt(s_half)\n",
    "\n",
    "grid_axis = LinearGrid(M=M_grid, N=N_grid, rho=np.array([0.0]), NFP=NFP)\n",
    "grid_lcfs = LinearGrid(M=M_grid, N=N_grid, rho=np.array([1.0]), NFP=NFP)\n",
    "grid_half = LinearGrid(M=M_grid, N=N_grid, NFP=NFP, rho=r_half)\n",
    "grid_full = LinearGrid(M=M_grid, N=N_grid, NFP=NFP, rho=r_full)\n",
    "\n",
    "data_quad = eq.compute(\n",
    "    [\n",
    "        \"R0/a\",\n",
    "        \"V\",\n",
    "        \"W_B\",\n",
    "        \"W_p\",\n",
    "        \"<|B|>_rms\",\n",
    "        \"<beta>_vol\",\n",
    "        \"<beta_pol>_vol\",\n",
    "        \"<beta_tor>_vol\",\n",
    "    ]\n",
    ")\n",
    "data_axis = eq.compute([\"G\", \"p\", \"R\", \"<|B|^2>\", \"<|B|>\"], grid=grid_axis)\n",
    "data_lcfs = eq.compute([\"G\", \"I\", \"R\", \"Z\"], grid=grid_lcfs)\n",
    "data_half = eq.compute(\n",
    "    [\n",
    "        \"B_rho\",\n",
    "        \"B_theta\",\n",
    "        \"B_zeta\",\n",
    "        \"G\",\n",
    "        \"I\",\n",
    "        \"J\",\n",
    "        \"iota\",\n",
    "        \"p\",\n",
    "        \"sqrt(g)\",\n",
    "        \"V_r(r)\",\n",
    "        \"|B|\",\n",
    "        \"<|B|^2>\",\n",
    "        \"R\",\"R_t\",\"R_r\",\"Z_t\",\"Z_r\"\n",
    "    ],\n",
    "    grid=grid_half,\n",
    ")\n",
    "# over_r is <(R_t Z_r - R_r Z_t)/R>_fsa / V'(rho) on half-grid\n",
    "# over_r = file.createVariable(\"over_r\", np.float64, (\"radius\",))\n",
    "over_r_correct = np.insert(surface_averages(  \n",
    "    grid_half,\n",
    "    (data_half[\"R_t\"] * data_half[\"Z_r\"] - data_half[\"R_r\"] * data_half[\"Z_t\"]) / data_half[\"V_r(r)\"],\n",
    "    sqrt_g=1, # set to 1 here to do a simple average instead of a true flux surface average\n",
    "    expand_out=False,\n",
    "), [0], [0.0]) * 4 * np.pi**2  #/ np.concatenate([np.array([0.0]), vp])\n",
    "\n",
    "over_r_correct = np.insert(surface_averages(  \n",
    "    grid_half,\n",
    "    data_half[\"sqrt(g)\"] / data_half[\"R\"] / data_half[\"V_r(r)\"],\n",
    "    sqrt_g=1, # set to 1 here to do a simple average instead of a true flux surface average\n",
    "    expand_out=False,\n",
    "), [0], [0.0]) * 4 * np.pi**2  #/ np.concatenate([np.array([0.0]), vp])\n",
    "\n",
    "\n",
    "\n",
    "over_r_correct_num_wrong_average = np.insert(surface_averages(  \n",
    "    grid_half,\n",
    "    (data_half[\"R_t\"] * data_half[\"Z_r\"] - data_half[\"R_r\"] * data_half[\"Z_t\"]) / data_half[\"V_r(r)\"],\n",
    "    sqrt_g=data_half[\"sqrt(g)\"], # set to 1 here to do a simple average instead of a true flux surface average\n",
    "    expand_out=False,\n",
    "), [0], [0.0]) * 4 * np.pi**2  #/ np.concatenate([np.array([0.0]), vp])\n",
    "\n",
    "over_r_incorrect_num_right_average = np.insert(surface_averages(  \n",
    "    grid_half,\n",
    "    (data_half[\"R_t\"] * data_half[\"Z_r\"] - data_half[\"R_r\"] * data_half[\"Z_t\"]) / data_half[\"R\"] / data_half[\"V_r(r)\"],\n",
    "    sqrt_g=1, # set to 1 here to do a simple average instead of a true flux surface average\n",
    "    expand_out=False,\n",
    "), [0], [0.0]) * 4 * np.pi**2  #/ np.concatenate([np.array([0.0]), vp])\n",
    "\n",
    "\n",
    "\n",
    "plt.figure()\n",
    "plt.plot(s_half, over_r_correct[1:]  ,label=r\"DESC correct formula $\\frac{\\langle \\sqrt{g}_{DESC}/R\\rangle 4\\pi^2}{\\frac{\\partial V(\\rho)}{\\partial \\rho}}$\", lw=3)\n",
    "plt.plot(s_half, over_r_correct_num_wrong_average[1:]  ,label=r\"DESC correct numerator, but with $\\langle \\rangle_{fsa}$, $\\frac{\\langle \\sqrt{g}_{DESC}/R\\rangle_{fsa} 4\\pi^2}{\\frac{\\partial V(\\rho)}{\\partial \\rho}}$ \", lw=3)\n",
    "plt.plot(s_half, over_r_incorrect_num_right_average[1:]  ,label=r\"DESC incorrect numerator, with $\\langle \\rangle$, $\\frac{\\langle \\sqrt{g}_{DESC}/R^2\\rangle 4\\pi^2}{\\frac{\\partial V(\\rho)}{\\partial \\rho}}$ \", lw=3)\n",
    "plt.plot(s_half, vmec[\"over_r\"][1:],\"--\",label=r\"VMEC over_r from wout, which I believe is $\\frac{\\langle \\tau\\rangle 4\\pi^2}{\\frac{\\partial V(s)}{\\partial s}}$\", lw=3)\n",
    "plt.legend()\n",
    "plt.xlabel(r\"$s$\")\n",
    "plt.ylabel(\"Value\")\n"
   ]
  },
  {
   "cell_type": "markdown",
   "id": "50883ed6-6637-41fc-b3ba-7d4f7ae650aa",
   "metadata": {},
   "source": [
    "# jcurv"
   ]
  },
  {
   "cell_type": "code",
   "execution_count": null,
   "id": "37d89352-54d5-46b0-a5e6-b7c1d7187580",
   "metadata": {},
   "outputs": [],
   "source": []
  },
  {
   "cell_type": "markdown",
   "id": "253b56cb-8fec-4ce2-a7b9-9e8b2b3e5606",
   "metadata": {},
   "source": [
    "# jdotb"
   ]
  },
  {
   "cell_type": "code",
   "execution_count": null,
   "id": "0cbbdcb2-2110-48ce-9575-dfd9644d0d6c",
   "metadata": {},
   "outputs": [],
   "source": []
  }
 ],
 "metadata": {
  "kernelspec": {
   "display_name": "Python 3 (ipykernel)",
   "language": "python",
   "name": "python3"
  },
  "language_info": {
   "codemirror_mode": {
    "name": "ipython",
    "version": 3
   },
   "file_extension": ".py",
   "mimetype": "text/x-python",
   "name": "python",
   "nbconvert_exporter": "python",
   "pygments_lexer": "ipython3",
   "version": "3.12.0"
  }
 },
 "nbformat": 4,
 "nbformat_minor": 5
}
